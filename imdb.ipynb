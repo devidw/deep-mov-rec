{
 "cells": [
  {
   "cell_type": "code",
   "execution_count": null,
   "metadata": {},
   "outputs": [],
   "source": [
    "%pip install pandas"
   ]
  },
  {
   "cell_type": "code",
   "execution_count": 5,
   "metadata": {},
   "outputs": [],
   "source": [
    "import pandas as pd\n",
    "\n",
    "df = pd.read_csv('imdb.csv')\n",
    "titles = pd.concat([df['Title'], df['Original Title']]).dropna().unique()\n",
    "\n",
    "with open('seen_extra.txt', 'r') as f:\n",
    "    extra_titles = [line.strip() for line in f if line.strip()]\n",
    "\n",
    "all_titles = list(titles) + extra_titles\n",
    "\n",
    "with open('seen_imdb.txt', 'w') as f:\n",
    "    for title in titles:\n",
    "        f.write(f\"{title}\\n\")\n",
    "\n",
    "with open('seen.txt', 'w') as f:\n",
    "    for title in all_titles:\n",
    "        f.write(f\"{title}\\n\")\n",
    "\n"
   ]
  }
 ],
 "metadata": {
  "kernelspec": {
   "display_name": "venv",
   "language": "python",
   "name": "python3"
  },
  "language_info": {
   "codemirror_mode": {
    "name": "ipython",
    "version": 3
   },
   "file_extension": ".py",
   "mimetype": "text/x-python",
   "name": "python",
   "nbconvert_exporter": "python",
   "pygments_lexer": "ipython3",
   "version": "3.11.11"
  }
 },
 "nbformat": 4,
 "nbformat_minor": 2
}
